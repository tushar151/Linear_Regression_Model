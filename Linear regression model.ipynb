{
 "cells": [
  {
   "cell_type": "markdown",
   "id": "9b2a71c9",
   "metadata": {},
   "source": []
  },
  {
   "cell_type": "code",
   "execution_count": null,
   "id": "5ff2f4ae",
   "metadata": {},
   "outputs": [],
   "source": []
  },
  {
   "cell_type": "code",
   "execution_count": null,
   "id": "f4ac3979",
   "metadata": {},
   "outputs": [],
   "source": [
    "\n"
   ]
  },
  {
   "cell_type": "code",
   "execution_count": null,
   "id": "df8edfda",
   "metadata": {},
   "outputs": [],
   "source": []
  },
  {
   "cell_type": "code",
   "execution_count": null,
   "id": "00b5c920",
   "metadata": {},
   "outputs": [],
   "source": []
  },
  {
   "cell_type": "code",
   "execution_count": 3,
   "id": "7054c38f",
   "metadata": {},
   "outputs": [],
   "source": [
    "\\"
   ]
  },
  {
   "cell_type": "code",
   "execution_count": null,
   "id": "61d6facc",
   "metadata": {},
   "outputs": [],
   "source": []
  },
  {
   "cell_type": "code",
   "execution_count": null,
   "id": "365d117c",
   "metadata": {},
   "outputs": [],
   "source": []
  },
  {
   "cell_type": "markdown",
   "id": "6571e2c2",
   "metadata": {},
   "source": [
    "<font color=\"green\">Linear regression</font>"
   ]
  },
  {
   "cell_type": "raw",
   "id": "69f7f99b",
   "metadata": {},
   "source": [
    "f(x)=m*x+c\n"
   ]
  },
  {
   "cell_type": "code",
   "execution_count": 27,
   "id": "9b661fba",
   "metadata": {},
   "outputs": [],
   "source": [
    "def forward_propogation(trainin,parameters):\n",
    "    m=parameters[\"m\"]\n",
    "    c=parameters[\"c\"]\n",
    "    predictions =np.multiply(m,trainin)+c\n",
    "    return predictions\n",
    "    \n"
   ]
  },
  {
   "cell_type": "markdown",
   "id": "8ddfe6c6",
   "metadata": {},
   "source": [
    "COST FUNCTION\n"
   ]
  },
  {
   "cell_type": "markdown",
   "id": "25044efb",
   "metadata": {},
   "source": [
    "summation(1/2n*(y-f(x))^2)"
   ]
  },
  {
   "cell_type": "code",
   "execution_count": 28,
   "id": "0da8ac85",
   "metadata": {},
   "outputs": [],
   "source": [
    "def costfunction(predictions,trainout):\n",
    "    cost= np.mean((trainout-predictions)**2)*0.5\n",
    "    return cost"
   ]
  },
  {
   "cell_type": "markdown",
   "id": "07669107",
   "metadata": {},
   "source": [
    "gradient descent\n",
    "df=(f(x)-y)^2/n\n",
    "dm=df * x\n",
    "dc=df * 1"
   ]
  },
  {
   "cell_type": "code",
   "execution_count": 1,
   "id": "f04ce58c",
   "metadata": {},
   "outputs": [],
   "source": [
    "def backward_propogation(trainin,trainout,predictions):\n",
    "    \n",
    "    derivatives=dict()\n",
    "    df=(predictions-trainout)\n",
    "    dm=np.mean(np.multiply(df,trainin))\n",
    "    dc=np.mean(df)\n",
    "     \n",
    "    derivatives[\"dm\"]=dm\n",
    "    derivatives[\"dc\"]=dc\n",
    "    return derivatives\n"
   ]
  },
  {
   "cell_type": "markdown",
   "id": "3ccbc229",
   "metadata": {},
   "source": [
    "update parameters"
   ]
  },
  {
   "cell_type": "markdown",
   "id": "1fe2e503",
   "metadata": {},
   "source": [
    "m=m-learning rate*dm\n",
    "c=c-learning rate*dc"
   ]
  },
  {
   "cell_type": "code",
   "execution_count": 2,
   "id": "5c6fa9ec",
   "metadata": {},
   "outputs": [],
   "source": [
    "def update(parameters,derivatives,learning_rate):\n",
    "    parameters[\"m\"]=parameters[\"m\"]-learning_rate*derivative['dm']\n",
    "    parameters[\"c\"]=parameters[\"c\"]-learning_rate*derivative['dc']\n",
    "    \n",
    "    return parameters\n",
    "\n"
   ]
  },
  {
   "cell_type": "markdown",
   "id": "dd7af0dc",
   "metadata": {},
   "source": [
    "TRAINING"
   ]
  },
  {
   "cell_type": "code",
   "execution_count": null,
   "id": "9f6a750f",
   "metadata": {},
   "outputs": [],
   "source": []
  },
  {
   "cell_type": "code",
   "execution_count": 2,
   "id": "7c991c9d",
   "metadata": {},
   "outputs": [
    {
     "ename": "NameError",
     "evalue": "name 'train' is not defined",
     "output_type": "error",
     "traceback": [
      "\u001b[1;31m---------------------------------------------------------------------------\u001b[0m",
      "\u001b[1;31mNameError\u001b[0m                                 Traceback (most recent call last)",
      "Cell \u001b[1;32mIn[2], line 1\u001b[0m\n\u001b[1;32m----> 1\u001b[0m parameters ,s\u001b[39m=\u001b[39mtrain(trainin,trainout,\u001b[39m20\u001b[39m,\u001b[39m0.0001\u001b[39m)\n",
      "\u001b[1;31mNameError\u001b[0m: name 'train' is not defined"
     ]
    }
   ],
   "source": [
    "parameters ,s=train(trainin,trainout,20,0.0001)"
   ]
  },
  {
   "cell_type": "code",
   "execution_count": 1,
   "id": "5971bc8d",
   "metadata": {},
   "outputs": [
    {
     "ename": "ModuleNotFoundError",
     "evalue": "No module named 'pandas'",
     "output_type": "error",
     "traceback": [
      "\u001b[1;31m---------------------------------------------------------------------------\u001b[0m",
      "\u001b[1;31mModuleNotFoundError\u001b[0m                       Traceback (most recent call last)",
      "Cell \u001b[1;32mIn[1], line 2\u001b[0m\n\u001b[0;32m      1\u001b[0m \u001b[39m#training input and output\u001b[39;00m\n\u001b[1;32m----> 2\u001b[0m \u001b[39mimport\u001b[39;00m \u001b[39mpandas\u001b[39;00m \u001b[39mas\u001b[39;00m \u001b[39mpd\u001b[39;00m\n\u001b[0;32m      3\u001b[0m \u001b[39mimport\u001b[39;00m \u001b[39mnumpy\u001b[39;00m \u001b[39mas\u001b[39;00m \u001b[39mnp\u001b[39;00m\n\u001b[0;32m      4\u001b[0m \u001b[39mimport\u001b[39;00m \u001b[39mmatplotlib\u001b[39;00m\u001b[39m.\u001b[39;00m\u001b[39mpyplot\u001b[39;00m \u001b[39mas\u001b[39;00m \u001b[39mplt\u001b[39;00m\n",
      "\u001b[1;31mModuleNotFoundError\u001b[0m: No module named 'pandas'"
     ]
    }
   ],
   "source": [
    "#training input and output\n",
    "import pandas as pd\n",
    "import numpy as np\n",
    "import matplotlib.pyplot as plt\n",
    "import matplotlib.axes as ax\n",
    "data=pd.read_csv(\"data_for_lr.csv\")\n",
    "data=data.dropna()\n",
    "trainin=np.array(data.x[0:500]).reshape(500,1)\n",
    "trainout=np.array(data.x[0:500]).reshape(500,1)\n",
    "#test\n",
    "testin=np.array(data.x[500:700]).reshape(199,1)\n",
    "testout=np.array(data.x[500:700]).reshape(199,1)\n",
    "print(\"training input shape \",{trainin.shape})\n",
    "print(\"training output shape \",{trainout.shape})\n",
    "print(\"testing input shape \",{testin.shape})\n",
    "print(\"testing input shape \",{testout.shape})\n",
    "def forward_propogation(trainin,parameters):\n",
    "    m=parameters[\"m\"]\n",
    "    c=parameters[\"c\"]\n",
    "    predictions =np.multiply(m,trainin)+c\n",
    "    return predictions\n",
    "def cost_function(predictions,trainout):\n",
    "    cost= np.mean((trainout-predictions)**2)*0.5\n",
    "    return cost\n",
    "def backward_propogation(trainin,trainout,predictions):\n",
    "    \n",
    "    derivatives=dict()\n",
    "    df=(predictions-trainout)\n",
    "    dm=np.mean(np.multiply(df,trainin))\n",
    "    dc=np.mean(df)\n",
    "     \n",
    "    derivatives[\"dm\"]=dm\n",
    "    derivatives[\"dc\"]=dc\n",
    "    return derivatives\n",
    "\n",
    "def update(parameters,derivatives,learning_rate):\n",
    "    parameters[\"m\"]=parameters[\"m\"]-learning_rate*derivatives['dm']\n",
    "    parameters[\"c\"]=parameters[\"c\"]-learning_rate*derivatives['dc']\n",
    "    \n",
    "    return parameters\n",
    "def train(trainin,trainout,iterations,learning_rate):\n",
    "    plt.figure()\n",
    "    loss=list()\n",
    "    parameters=dict()\n",
    "    parameters[\"m\"]=np.random.uniform(0,1)\n",
    "    parameters[\"c\"]=np.random.uniform(0,1)\n",
    "    \n",
    "    for i in range(iterations):\n",
    "        #forward\n",
    "        predictions=forward_propogation(trainin,parameters)\n",
    "        \n",
    "        #cost\n",
    "        cost=cost_function(predictions,trainout)\n",
    "        loss.append(cost)\n",
    "        print(f\"loss={cost},iterations ={i+1}\" )\n",
    "        fig,ax=plt.subplots()\n",
    "        ax.plot(trainin,trainout,\"+\",label=\"original\")\n",
    "        ax.plot(trainin,predictions,\"+\",label=\"train\")\n",
    "        \n",
    "        legend=ax.legend()\n",
    "        plt.plot(trainin,trainout,\"+\",label=\"original\")\n",
    "        plt.plot(trainin,predictions,\"+\",label=\"train\")\n",
    "        plt.show()\n",
    "        \n",
    "        #back propogation\n",
    "        derivatives=backward_propogation(trainin,trainout,predictions)\n",
    "        \n",
    "\n",
    "        #update parameters\n",
    "        parameters=update(parameters,derivatives,learning_rate)\n",
    "        \n",
    "    return parameters,loss\n",
    "\n",
    "parameters,loss=train(trainin,trainout,20,0.0001)"
   ]
  },
  {
   "cell_type": "markdown",
   "id": "21254e5b",
   "metadata": {},
   "source": [
    "prediction"
   ]
  },
  {
   "cell_type": "code",
   "execution_count": 25,
   "id": "a258cd97",
   "metadata": {},
   "outputs": [
    {
     "data": {
      "text/plain": [
       "[118.53792090999393,\n",
       " 53.84108383012864,\n",
       " 24.488054148709647,\n",
       " 11.1705490323765,\n",
       " 5.12837917298368,\n",
       " 2.387036978278883,\n",
       " 1.1432839513287645,\n",
       " 0.5789887887333951,\n",
       " 0.32296441194427794,\n",
       " 0.20680283228184104,\n",
       " 0.15409715874653301,\n",
       " 0.130181500260417,\n",
       " 0.11932790364406075,\n",
       " 0.11440057911902589,\n",
       " 0.1121620109589204,\n",
       " 0.11114333469267368,\n",
       " 0.11067812488277669,\n",
       " 0.11046402357006577,\n",
       " 0.11036385061355236,\n",
       " 0.11031536723131913]"
      ]
     },
     "execution_count": 25,
     "metadata": {},
     "output_type": "execute_result"
    }
   ],
   "source": [
    "loss"
   ]
  },
  {
   "cell_type": "code",
   "execution_count": 26,
   "id": "d41452ef",
   "metadata": {},
   "outputs": [
    {
     "data": {
      "text/plain": [
       "[<matplotlib.lines.Line2D at 0x2096215a0d0>]"
      ]
     },
     "execution_count": 26,
     "metadata": {},
     "output_type": "execute_result"
    },
    {
     "data": {
      "image/png": "[encoded data removed]",
      "text/plain": [
       "<Figure size 432x288 with 1 Axes>"
      ]
     },
     "metadata": {
      "needs_background": "light"
     },
     "output_type": "display_data"
    }
   ],
   "source": [
    "plt.plot(loss)"
   ]
  },
  {
   "cell_type": "code",
   "execution_count": 34,
   "id": "9482fc22",
   "metadata": {},
   "outputs": [
    {
     "data": {
      "image/png": "[encoded data removed]",
      "text/plain": [
       "<Figure size 432x288 with 1 Axes>"
      ]
     },
     "metadata": {
      "needs_background": "light"
     },
     "output_type": "display_data"
    }
   ],
   "source": [
    "test=testin*parameters['m']+parameters['c']\n",
    "plt.plot(testin,test,'+')\n",
    "plt.plot(testin,testout,'*')\n",
    "plt.show()\n"
   ]
  },
  {
   "cell_type": "code",
   "execution_count": 36,
   "id": "7b2feaae",
   "metadata": {},
   "outputs": [
    {
     "data": {
      "text/plain": [
       "0.10879424877023194"
      ]
     },
     "execution_count": 36,
     "metadata": {},
     "output_type": "execute_result"
    }
   ],
   "source": [
    "cost_function(testout,test)"
   ]
  },
  {
   "cell_type": "code",
   "execution_count": null,
   "id": "54ed80dd",
   "metadata": {},
   "outputs": [],
   "source": []
  }
 ],
 "metadata": {
  "kernelspec": {
   "display_name": "Python 3",
   "language": "python",
   "name": "python3"
  },
  "language_info": {
   "codemirror_mode": {
    "name": "ipython",
    "version": 3
   },
   "file_extension": ".py",
   "mimetype": "text/x-python",
   "name": "python",
   "nbconvert_exporter": "python",
   "pygments_lexer": "ipython3",
   "version": "3.8.8"
  }
 },
 "nbformat": 4,
 "nbformat_minor": 5
}
